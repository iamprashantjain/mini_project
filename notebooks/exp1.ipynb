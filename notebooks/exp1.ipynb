{
 "cells": [
  {
   "cell_type": "code",
   "execution_count": 1,
   "id": "145d518d",
   "metadata": {
    "execution": {
     "iopub.execute_input": "2025-05-28T11:41:01.818509Z",
     "iopub.status.busy": "2025-05-28T11:41:01.818509Z",
     "iopub.status.idle": "2025-05-28T11:41:10.596721Z",
     "shell.execute_reply": "2025-05-28T11:41:10.596721Z"
    }
   },
   "outputs": [],
   "source": [
    "import mlflow\n",
    "import mlflow.sklearn\n",
    "import pandas as pd\n",
    "import numpy as np\n",
    "import re\n",
    "import string\n",
    "\n",
    "from sklearn.feature_extraction.text import CountVectorizer\n",
    "from sklearn.model_selection import train_test_split\n",
    "from sklearn.linear_model import LogisticRegression\n",
    "from sklearn.metrics import accuracy_score, precision_score, recall_score, f1_score\n",
    "\n",
    "from nltk.corpus import stopwords\n",
    "from nltk.stem import WordNetLemmatizer"
   ]
  },
  {
   "cell_type": "code",
   "execution_count": 2,
   "id": "0d2d0729",
   "metadata": {
    "execution": {
     "iopub.execute_input": "2025-05-28T11:41:10.596721Z",
     "iopub.status.busy": "2025-05-28T11:41:10.596721Z",
     "iopub.status.idle": "2025-05-28T11:41:11.292219Z",
     "shell.execute_reply": "2025-05-28T11:41:11.290767Z"
    }
   },
   "outputs": [],
   "source": [
    "#data ingestion\n",
    "df = pd.read_csv(\"https://raw.githubusercontent.com/campusx-official/jupyter-masterclass/main/tweet_emotions.csv\")"
   ]
  },
  {
   "cell_type": "code",
   "execution_count": 3,
   "id": "217fb3c5",
   "metadata": {
    "execution": {
     "iopub.execute_input": "2025-05-28T11:41:11.295344Z",
     "iopub.status.busy": "2025-05-28T11:41:11.295344Z",
     "iopub.status.idle": "2025-05-28T11:41:11.311001Z",
     "shell.execute_reply": "2025-05-28T11:41:11.311001Z"
    }
   },
   "outputs": [],
   "source": [
    "df = df[df['sentiment'].isin([\"happiness\", \"sadness\"])]"
   ]
  },
  {
   "cell_type": "code",
   "execution_count": 4,
   "id": "11f7c9c4",
   "metadata": {
    "execution": {
     "iopub.execute_input": "2025-05-28T11:41:11.311001Z",
     "iopub.status.busy": "2025-05-28T11:41:11.311001Z",
     "iopub.status.idle": "2025-05-28T11:41:11.408054Z",
     "shell.execute_reply": "2025-05-28T11:41:11.408054Z"
    }
   },
   "outputs": [],
   "source": [
    "#data preprocessing\n",
    "def lemmatization(text):\n",
    "    lemmatizer = WordNetLemmatizer()\n",
    "    return \" \".join([lemmatizer.lemmatize(word) for word in text.split()])\n",
    "\n",
    "def remove_stop_words(text):\n",
    "    stop_words = set(stopwords.words(\"english\"))\n",
    "    return \" \".join([word for word in text.split() if word not in stop_words])\n",
    "\n",
    "def removing_numbers(text):\n",
    "    return ''.join([char for char in text if not char.isdigit()])\n",
    "\n",
    "def lower_case(text):\n",
    "    return \" \".join([word.lower() for word in text.split()])\n",
    "\n",
    "def removing_punctuations(text):\n",
    "    text = re.sub('[%s]' % re.escape(string.punctuation), ' ', text)\n",
    "    text = text.replace('؛', \"\")\n",
    "    return re.sub('\\s+', ' ', text).strip()\n",
    "\n",
    "def removing_urls(text):\n",
    "    return re.sub(r'https?://\\S+|www\\.\\S+', '', text)\n",
    "\n",
    "def remove_small_sentences(df):\n",
    "    df['content'] = df['content'].apply(lambda x: np.nan if len(str(x).split()) < 3 else x)\n",
    "    return df\n",
    "\n",
    "def normalize_text(df):\n",
    "    try:\n",
    "        df['content'] = df['content'].apply(lower_case)\n",
    "        df['content'] = df['content'].apply(remove_stop_words)\n",
    "        df['content'] = df['content'].apply(removing_numbers)\n",
    "        df['content'] = df['content'].apply(removing_punctuations)\n",
    "        df['content'] = df['content'].apply(removing_urls)\n",
    "        df['content'] = df['content'].apply(lemmatization)\n",
    "        df = remove_small_sentences(df)\n",
    "        return df.dropna(subset=['content'])\n",
    "    except Exception as e:\n",
    "        print(e)"
   ]
  },
  {
   "cell_type": "code",
   "execution_count": 5,
   "id": "afc838bc",
   "metadata": {
    "execution": {
     "iopub.execute_input": "2025-05-28T11:41:11.423687Z",
     "iopub.status.busy": "2025-05-28T11:41:11.423687Z",
     "iopub.status.idle": "2025-05-28T11:41:33.281500Z",
     "shell.execute_reply": "2025-05-28T11:41:33.278509Z"
    }
   },
   "outputs": [],
   "source": [
    "df = normalize_text(df)"
   ]
  },
  {
   "cell_type": "code",
   "execution_count": 6,
   "id": "92bc5394",
   "metadata": {
    "execution": {
     "iopub.execute_input": "2025-05-28T11:41:33.289984Z",
     "iopub.status.busy": "2025-05-28T11:41:33.289984Z",
     "iopub.status.idle": "2025-05-28T11:41:33.312905Z",
     "shell.execute_reply": "2025-05-28T11:41:33.311044Z"
    }
   },
   "outputs": [],
   "source": [
    "df['sentiment'].replace({\n",
    "    'sadness':0,\n",
    "    'happiness':1\n",
    "}, inplace=True)"
   ]
  },
  {
   "cell_type": "code",
   "execution_count": 7,
   "id": "b89943ee",
   "metadata": {
    "execution": {
     "iopub.execute_input": "2025-05-28T11:41:33.320421Z",
     "iopub.status.busy": "2025-05-28T11:41:33.312905Z",
     "iopub.status.idle": "2025-05-28T11:41:33.678694Z",
     "shell.execute_reply": "2025-05-28T11:41:33.678694Z"
    }
   },
   "outputs": [],
   "source": [
    "#apply bow\n",
    "vectorizer = CountVectorizer(max_features=1000)\n",
    "X = vectorizer.fit_transform(df['content'])\n",
    "y = df['sentiment']"
   ]
  },
  {
   "cell_type": "code",
   "execution_count": 8,
   "id": "aee9882b",
   "metadata": {
    "execution": {
     "iopub.execute_input": "2025-05-28T11:41:33.678694Z",
     "iopub.status.busy": "2025-05-28T11:41:33.678694Z",
     "iopub.status.idle": "2025-05-28T11:41:33.714241Z",
     "shell.execute_reply": "2025-05-28T11:41:33.711242Z"
    }
   },
   "outputs": [],
   "source": [
    "X_train, X_test, y_train, y_test = train_test_split(X, y, test_size=0.2, random_state=42)"
   ]
  },
  {
   "cell_type": "code",
   "execution_count": 9,
   "id": "8236bc8c",
   "metadata": {
    "execution": {
     "iopub.execute_input": "2025-05-28T11:41:33.723233Z",
     "iopub.status.busy": "2025-05-28T11:41:33.722240Z",
     "iopub.status.idle": "2025-05-28T11:41:36.818429Z",
     "shell.execute_reply": "2025-05-28T11:41:36.815730Z"
    }
   },
   "outputs": [
    {
     "data": {
      "text/html": [
       "<pre style=\"white-space:pre;overflow-x:auto;line-height:normal;font-family:Menlo,'DejaVu Sans Mono',consolas,'Courier New',monospace\">Accessing as iamprashantjain\n",
       "</pre>\n"
      ],
      "text/plain": [
       "Accessing as iamprashantjain\n"
      ]
     },
     "metadata": {},
     "output_type": "display_data"
    },
    {
     "data": {
      "text/html": [
       "<pre style=\"white-space:pre;overflow-x:auto;line-height:normal;font-family:Menlo,'DejaVu Sans Mono',consolas,'Courier New',monospace\">Initialized MLflow to track repo <span style=\"color: #008000; text-decoration-color: #008000\">\"iamprashantjain/mini_project\"</span>\n",
       "</pre>\n"
      ],
      "text/plain": [
       "Initialized MLflow to track repo \u001b[32m\"iamprashantjain/mini_project\"\u001b[0m\n"
      ]
     },
     "metadata": {},
     "output_type": "display_data"
    },
    {
     "data": {
      "text/html": [
       "<pre style=\"white-space:pre;overflow-x:auto;line-height:normal;font-family:Menlo,'DejaVu Sans Mono',consolas,'Courier New',monospace\">Repository iamprashantjain/mini_project initialized!\n",
       "</pre>\n"
      ],
      "text/plain": [
       "Repository iamprashantjain/mini_project initialized!\n"
      ]
     },
     "metadata": {},
     "output_type": "display_data"
    },
    {
     "data": {
      "text/plain": [
       "<Experiment: artifact_location='mlflow-artifacts:/5999e58740034acf8100bfcf55c7c783', creation_time=1748369261099, experiment_id='0', last_update_time=1748369261099, lifecycle_stage='active', name='logistic regression baseline', tags={}>"
      ]
     },
     "execution_count": 9,
     "metadata": {},
     "output_type": "execute_result"
    }
   ],
   "source": [
    "#log experiment on dagshub mlflow\n",
    "import dagshub\n",
    "\n",
    "dagshub.init(repo_owner='iamprashantjain', repo_name='mini_project', mlflow=True)\n",
    "mlflow.set_tracking_uri(\"https://dagshub.com/iamprashantjain/mini_project.mlflow\")\n",
    "mlflow.set_experiment(\"logistic regression baseline\")"
   ]
  },
  {
   "cell_type": "code",
   "execution_count": 10,
   "id": "d122e651",
   "metadata": {
    "execution": {
     "iopub.execute_input": "2025-05-28T11:41:36.822876Z",
     "iopub.status.busy": "2025-05-28T11:41:36.822876Z",
     "iopub.status.idle": "2025-05-28T11:45:15.850457Z",
     "shell.execute_reply": "2025-05-28T11:45:15.850457Z"
    }
   },
   "outputs": [
    {
     "name": "stderr",
     "output_type": "stream",
     "text": [
      "c:\\users\\iampr\\appdata\\local\\programs\\python\\python38\\lib\\site-packages\\sklearn\\linear_model\\_sag.py:350: ConvergenceWarning: The max_iter was reached which means the coef_ did not converge\n",
      "  warnings.warn(\n"
     ]
    },
    {
     "name": "stderr",
     "output_type": "stream",
     "text": [
      "2025/05/28 17:12:04 WARNING mlflow.models.model: Model logged without a signature and input example. Please set `input_example` parameter when logging the model to auto infer the model signature.\n"
     ]
    },
    {
     "name": "stdout",
     "output_type": "stream",
     "text": [
      "accuracy 0.7666666666666667\n",
      "precision 0.7561214495592556\n",
      "recall 0.783756345177665\n",
      "f1 0.769690927218345\n"
     ]
    },
    {
     "name": "stderr",
     "output_type": "stream",
     "text": [
      "2025/05/28 17:15:15 INFO mlflow.tracking._tracking_service.client: 🏃 View run useful-whale-721 at: https://dagshub.com/iamprashantjain/mini_project.mlflow/#/experiments/0/runs/ff0a3f7a60d145d79bd50ce20ea2642e.\n"
     ]
    },
    {
     "name": "stderr",
     "output_type": "stream",
     "text": [
      "2025/05/28 17:15:15 INFO mlflow.tracking._tracking_service.client: 🧪 View experiment at: https://dagshub.com/iamprashantjain/mini_project.mlflow/#/experiments/0.\n"
     ]
    }
   ],
   "source": [
    "#now run experiment\n",
    "with mlflow.start_run():\n",
    "    #log preprocessing params\n",
    "    mlflow.log_param(\"vectorizer\",\"bow\")\n",
    "    mlflow.log_param(\"num_features\",\"1000\")\n",
    "    mlflow.log_param(\"test_size\",0.2)\n",
    "    \n",
    "    #model training\n",
    "    model = LogisticRegression(solver='saga')\n",
    "    model.fit(X_train, y_train)\n",
    "    \n",
    "    #log model params\n",
    "    mlflow.log_param(\"model\", \"LogisticRegression\")\n",
    "    \n",
    "    #model evaluation\n",
    "    y_pred = model.predict(X_test)\n",
    "    accuracy = accuracy_score(y_test, y_pred)\n",
    "    precision = precision_score(y_test, y_pred)\n",
    "    recall = recall_score(y_test, y_pred)\n",
    "    f1 = f1_score(y_test, y_pred)\n",
    "    \n",
    "    \n",
    "    #log evaluation metric\n",
    "    mlflow.log_metric(\"accuracy\", accuracy)\n",
    "    mlflow.log_metric(\"precision\", precision)\n",
    "    mlflow.log_metric(\"recall\", recall)\n",
    "    mlflow.log_metric(\"f1\", f1)\n",
    "    \n",
    "    \n",
    "    #log model\n",
    "    mlflow.sklearn.log_model(model, \"model\")\n",
    "    \n",
    "    \n",
    "    #log notebook\n",
    "    import os\n",
    "    notebook_path = \"exp1.ipynb\"\n",
    "    os.system(f\"jupyter nbconvert --to notebook --execute --inplace {notebook_path}\")\n",
    "    mlflow.log_artifact(notebook_path)\n",
    "    \n",
    "    \n",
    "    print(\"accuracy\", accuracy)\n",
    "    print(\"precision\", precision)\n",
    "    print(\"recall\", recall)\n",
    "    print(\"f1\", f1)    "
   ]
  },
  {
   "cell_type": "code",
   "execution_count": null,
   "id": "be0c99ec",
   "metadata": {},
   "outputs": [],
   "source": []
  }
 ],
 "metadata": {
  "kernelspec": {
   "display_name": "Python 3",
   "language": "python",
   "name": "python3"
  },
  "language_info": {
   "codemirror_mode": {
    "name": "ipython",
    "version": 3
   },
   "file_extension": ".py",
   "mimetype": "text/x-python",
   "name": "python",
   "nbconvert_exporter": "python",
   "pygments_lexer": "ipython3",
   "version": "3.8.0"
  }
 },
 "nbformat": 4,
 "nbformat_minor": 5
}

{
 "cells": [
  {
   "cell_type": "code",
   "execution_count": 11,
   "id": "90339716",
   "metadata": {},
   "outputs": [],
   "source": [
    "import mlflow\n",
    "import mlflow.sklearn\n",
    "import pandas as pd\n",
    "import numpy as np\n",
    "import re\n",
    "import string\n",
    "import gc\n",
    "\n",
    "from sklearn.feature_extraction.text import CountVectorizer\n",
    "from sklearn.model_selection import train_test_split\n",
    "from sklearn.linear_model import LogisticRegression\n",
    "from sklearn.metrics import accuracy_score, precision_score, recall_score, f1_score\n",
    "\n",
    "from nltk.corpus import stopwords\n",
    "from nltk.stem import WordNetLemmatizer"
   ]
  },
  {
   "cell_type": "code",
   "execution_count": 12,
   "id": "dcf17cfa",
   "metadata": {},
   "outputs": [],
   "source": [
    "#data ingestion\n",
    "df = pd.read_csv(\"https://raw.githubusercontent.com/campusx-official/jupyter-masterclass/main/tweet_emotions.csv\")"
   ]
  },
  {
   "cell_type": "code",
   "execution_count": 13,
   "id": "7163efca",
   "metadata": {},
   "outputs": [],
   "source": [
    "df = df[df['sentiment'].isin([\"happiness\", \"sadness\"])]"
   ]
  },
  {
   "cell_type": "code",
   "execution_count": 14,
   "id": "45b3783c",
   "metadata": {},
   "outputs": [],
   "source": [
    "#data preprocessing\n",
    "def lemmatization(text):\n",
    "    lemmatizer = WordNetLemmatizer()\n",
    "    return \" \".join([lemmatizer.lemmatize(word) for word in text.split()])\n",
    "\n",
    "def remove_stop_words(text):\n",
    "    stop_words = set(stopwords.words(\"english\"))\n",
    "    return \" \".join([word for word in text.split() if word not in stop_words])\n",
    "\n",
    "def removing_numbers(text):\n",
    "    return ''.join([char for char in text if not char.isdigit()])\n",
    "\n",
    "def lower_case(text):\n",
    "    return \" \".join([word.lower() for word in text.split()])\n",
    "\n",
    "def removing_punctuations(text):\n",
    "    text = re.sub('[%s]' % re.escape(string.punctuation), ' ', text)\n",
    "    text = text.replace('؛', \"\")\n",
    "    return re.sub('\\s+', ' ', text).strip()\n",
    "\n",
    "def removing_urls(text):\n",
    "    return re.sub(r'https?://\\S+|www\\.\\S+', '', text)\n",
    "\n",
    "def remove_small_sentences(df):\n",
    "    df['content'] = df['content'].apply(lambda x: np.nan if len(str(x).split()) < 3 else x)\n",
    "    return df\n",
    "\n",
    "def normalize_text(df):\n",
    "    try:\n",
    "        df['content'] = df['content'].apply(lower_case)\n",
    "        df['content'] = df['content'].apply(remove_stop_words)\n",
    "        df['content'] = df['content'].apply(removing_numbers)\n",
    "        df['content'] = df['content'].apply(removing_punctuations)\n",
    "        df['content'] = df['content'].apply(removing_urls)\n",
    "        df['content'] = df['content'].apply(lemmatization)\n",
    "        df = remove_small_sentences(df)\n",
    "        return df.dropna(subset=['content'])\n",
    "    except Exception as e:\n",
    "        print(e)"
   ]
  },
  {
   "cell_type": "code",
   "execution_count": 15,
   "id": "242c8b82",
   "metadata": {},
   "outputs": [],
   "source": [
    "df = normalize_text(df)"
   ]
  },
  {
   "cell_type": "code",
   "execution_count": 16,
   "id": "296bd793",
   "metadata": {},
   "outputs": [],
   "source": [
    "df['sentiment'].replace({\n",
    "    'sadness':0,\n",
    "    'happiness':1\n",
    "}, inplace=True)"
   ]
  },
  {
   "cell_type": "code",
   "execution_count": 17,
   "id": "a2b36b22",
   "metadata": {},
   "outputs": [
    {
     "data": {
      "text/html": [
       "<pre style=\"white-space:pre;overflow-x:auto;line-height:normal;font-family:Menlo,'DejaVu Sans Mono',consolas,'Courier New',monospace\">Initialized MLflow to track repo <span style=\"color: #008000; text-decoration-color: #008000\">\"iamprashantjain/mini_project\"</span>\n",
       "</pre>\n"
      ],
      "text/plain": [
       "Initialized MLflow to track repo \u001b[32m\"iamprashantjain/mini_project\"\u001b[0m\n"
      ]
     },
     "metadata": {},
     "output_type": "display_data"
    },
    {
     "data": {
      "text/html": [
       "<pre style=\"white-space:pre;overflow-x:auto;line-height:normal;font-family:Menlo,'DejaVu Sans Mono',consolas,'Courier New',monospace\">Repository iamprashantjain/mini_project initialized!\n",
       "</pre>\n"
      ],
      "text/plain": [
       "Repository iamprashantjain/mini_project initialized!\n"
      ]
     },
     "metadata": {},
     "output_type": "display_data"
    },
    {
     "data": {
      "text/plain": [
       "<Experiment: artifact_location='mlflow-artifacts:/15b17dc73b2848e5acac2737b0800840', creation_time=1748408326228, experiment_id='1', last_update_time=1748408326228, lifecycle_stage='active', name='BOW vs TFIDF', tags={}>"
      ]
     },
     "execution_count": 17,
     "metadata": {},
     "output_type": "execute_result"
    }
   ],
   "source": [
    "#log experiment on dagshub mlflow\n",
    "import dagshub\n",
    "\n",
    "dagshub.init(repo_owner='iamprashantjain', repo_name='mini_project', mlflow=True)\n",
    "mlflow.set_tracking_uri(\"https://dagshub.com/iamprashantjain/mini_project.mlflow\")\n",
    "mlflow.set_experiment(\"BOW vs TFIDF\")"
   ]
  },
  {
   "cell_type": "code",
   "execution_count": 18,
   "id": "d699f8cd",
   "metadata": {},
   "outputs": [],
   "source": [
    "from sklearn.feature_extraction.text import TfidfVectorizer\n",
    "\n",
    "vectorizers = {\n",
    "    'bow':CountVectorizer(),\n",
    "    'tfidf':TfidfVectorizer()\n",
    "}\n",
    "\n",
    "\n",
    "from sklearn.naive_bayes import MultinomialNB\n",
    "from sklearn.ensemble import RandomForestClassifier, GradientBoostingClassifier\n",
    "from xgboost import XGBClassifier\n",
    "\n",
    "\n",
    "algorithms = {\n",
    "    'logisticregression': LogisticRegression(solver='saga'),\n",
    "    'multinomialnb': MultinomialNB(),\n",
    "    'randomforest': RandomForestClassifier(),\n",
    "    'xgboost': XGBClassifier(use_label_encoder=False, eval_metric='logloss'),\n",
    "    'gradientboosting': GradientBoostingClassifier()\n",
    "}"
   ]
  },
  {
   "cell_type": "code",
   "execution_count": 19,
   "id": "534cd30c",
   "metadata": {},
   "outputs": [
    {
     "name": "stdout",
     "output_type": "stream",
     "text": [
      "logisticregression - bow\n",
      "logisticregression - tfidf\n",
      "multinomialnb - bow\n",
      "multinomialnb - tfidf\n",
      "randomforest - bow\n",
      "randomforest - tfidf\n",
      "xgboost - bow\n",
      "xgboost - tfidf\n",
      "gradientboosting - bow\n",
      "gradientboosting - tfidf\n"
     ]
    }
   ],
   "source": [
    "for algo, algorithm in algorithms.items():\n",
    "    for vec, vectorizer in vectorizers.items():\n",
    "        print(f\"{algo} - {vec}\")"
   ]
  },
  {
   "cell_type": "code",
   "execution_count": 20,
   "id": "e17315cd",
   "metadata": {},
   "outputs": [
    {
     "name": "stderr",
     "output_type": "stream",
     "text": [
      "c:\\Users\\iampr\\AppData\\Local\\Programs\\Python\\Python38\\lib\\site-packages\\sklearn\\linear_model\\_sag.py:350: ConvergenceWarning: The max_iter was reached which means the coef_ did not converge\n",
      "  warnings.warn(\n",
      "2025/05/28 18:02:09 WARNING mlflow.models.model: Model logged without a signature and input example. Please set `input_example` parameter when logging the model to auto infer the model signature.\n"
     ]
    },
    {
     "name": "stdout",
     "output_type": "stream",
     "text": [
      "accuracy 0.7813131313131313\n",
      "precision 0.772189349112426\n",
      "recall 0.7949238578680203\n",
      "f1 0.783391695847924\n"
     ]
    },
    {
     "name": "stderr",
     "output_type": "stream",
     "text": [
      "2025/05/28 18:02:14 INFO mlflow.tracking._tracking_service.client: 🏃 View run logisticregression with bow at: https://dagshub.com/iamprashantjain/mini_project.mlflow/#/experiments/1/runs/71aa3a8e85914a1e89fb7fcd272d29c7.\n",
      "2025/05/28 18:02:14 INFO mlflow.tracking._tracking_service.client: 🧪 View experiment at: https://dagshub.com/iamprashantjain/mini_project.mlflow/#/experiments/1.\n",
      "2025/05/28 18:02:27 WARNING mlflow.models.model: Model logged without a signature and input example. Please set `input_example` parameter when logging the model to auto infer the model signature.\n"
     ]
    },
    {
     "name": "stdout",
     "output_type": "stream",
     "text": [
      "accuracy 0.7843434343434343\n",
      "precision 0.7751479289940828\n",
      "recall 0.7979695431472081\n",
      "f1 0.7863931965982992\n"
     ]
    },
    {
     "name": "stderr",
     "output_type": "stream",
     "text": [
      "2025/05/28 18:02:32 INFO mlflow.tracking._tracking_service.client: 🏃 View run logisticregression with tfidf at: https://dagshub.com/iamprashantjain/mini_project.mlflow/#/experiments/1/runs/337e768330d043e08526ed71f7f8cf2f.\n",
      "2025/05/28 18:02:32 INFO mlflow.tracking._tracking_service.client: 🧪 View experiment at: https://dagshub.com/iamprashantjain/mini_project.mlflow/#/experiments/1.\n",
      "2025/05/28 18:02:44 WARNING mlflow.models.model: Model logged without a signature and input example. Please set `input_example` parameter when logging the model to auto infer the model signature.\n"
     ]
    },
    {
     "name": "stdout",
     "output_type": "stream",
     "text": [
      "accuracy 0.7838383838383839\n",
      "precision 0.7833163784333672\n",
      "recall 0.7817258883248731\n",
      "f1 0.782520325203252\n"
     ]
    },
    {
     "name": "stderr",
     "output_type": "stream",
     "text": [
      "2025/05/28 18:02:50 INFO mlflow.tracking._tracking_service.client: 🏃 View run multinomialnb with bow at: https://dagshub.com/iamprashantjain/mini_project.mlflow/#/experiments/1/runs/a15dbc0ad8c04085a172b16e4c60cc85.\n",
      "2025/05/28 18:02:50 INFO mlflow.tracking._tracking_service.client: 🧪 View experiment at: https://dagshub.com/iamprashantjain/mini_project.mlflow/#/experiments/1.\n",
      "2025/05/28 18:03:04 WARNING mlflow.models.model: Model logged without a signature and input example. Please set `input_example` parameter when logging the model to auto infer the model signature.\n"
     ]
    },
    {
     "name": "stdout",
     "output_type": "stream",
     "text": [
      "accuracy 0.7752525252525253\n",
      "precision 0.765748031496063\n",
      "recall 0.7898477157360406\n",
      "f1 0.7776111944027986\n"
     ]
    },
    {
     "name": "stderr",
     "output_type": "stream",
     "text": [
      "2025/05/28 18:03:09 INFO mlflow.tracking._tracking_service.client: 🏃 View run multinomialnb with tfidf at: https://dagshub.com/iamprashantjain/mini_project.mlflow/#/experiments/1/runs/d45448c3f7eb47dda3d914391564de85.\n",
      "2025/05/28 18:03:09 INFO mlflow.tracking._tracking_service.client: 🧪 View experiment at: https://dagshub.com/iamprashantjain/mini_project.mlflow/#/experiments/1.\n",
      "2025/05/28 18:06:19 WARNING mlflow.models.model: Model logged without a signature and input example. Please set `input_example` parameter when logging the model to auto infer the model signature.\n"
     ]
    },
    {
     "name": "stdout",
     "output_type": "stream",
     "text": [
      "accuracy 0.7747474747474747\n",
      "precision 0.7569113441372736\n",
      "recall 0.8060913705583757\n",
      "f1 0.7807276302851524\n"
     ]
    },
    {
     "name": "stderr",
     "output_type": "stream",
     "text": [
      "2025/05/28 18:06:31 INFO mlflow.tracking._tracking_service.client: 🏃 View run randomforest with bow at: https://dagshub.com/iamprashantjain/mini_project.mlflow/#/experiments/1/runs/916023a848a349f5a7f9dbba25cca988.\n",
      "2025/05/28 18:06:31 INFO mlflow.tracking._tracking_service.client: 🧪 View experiment at: https://dagshub.com/iamprashantjain/mini_project.mlflow/#/experiments/1.\n",
      "2025/05/28 18:09:34 WARNING mlflow.models.model: Model logged without a signature and input example. Please set `input_example` parameter when logging the model to auto infer the model signature.\n"
     ]
    },
    {
     "name": "stdout",
     "output_type": "stream",
     "text": [
      "accuracy 0.7631313131313131\n",
      "precision 0.7371323529411765\n",
      "recall 0.8142131979695432\n",
      "f1 0.773757838880849\n"
     ]
    },
    {
     "name": "stderr",
     "output_type": "stream",
     "text": [
      "2025/05/28 18:09:47 INFO mlflow.tracking._tracking_service.client: 🏃 View run randomforest with tfidf at: https://dagshub.com/iamprashantjain/mini_project.mlflow/#/experiments/1/runs/d8e70cab07294b1e9a2caed0ada2695c.\n",
      "2025/05/28 18:09:47 INFO mlflow.tracking._tracking_service.client: 🧪 View experiment at: https://dagshub.com/iamprashantjain/mini_project.mlflow/#/experiments/1.\n",
      "c:\\Users\\iampr\\AppData\\Local\\Programs\\Python\\Python38\\lib\\site-packages\\xgboost\\core.py:158: UserWarning: [18:09:50] WARNING: C:\\buildkite-agent\\builds\\buildkite-windows-cpu-autoscaling-group-i-0ed59c031377d09b8-1\\xgboost\\xgboost-ci-windows\\src\\learner.cc:740: \n",
      "Parameters: { \"use_label_encoder\" } are not used.\n",
      "\n",
      "  warnings.warn(smsg, UserWarning)\n",
      "2025/05/28 18:10:03 WARNING mlflow.models.model: Model logged without a signature and input example. Please set `input_example` parameter when logging the model to auto infer the model signature.\n"
     ]
    },
    {
     "name": "stdout",
     "output_type": "stream",
     "text": [
      "accuracy 0.7575757575757576\n",
      "precision 0.726457399103139\n",
      "recall 0.8223350253807107\n",
      "f1 0.7714285714285715\n"
     ]
    },
    {
     "name": "stderr",
     "output_type": "stream",
     "text": [
      "2025/05/28 18:10:07 INFO mlflow.tracking._tracking_service.client: 🏃 View run xgboost with bow at: https://dagshub.com/iamprashantjain/mini_project.mlflow/#/experiments/1/runs/9e6cdc02482d47e5b24b8c8c224078c3.\n",
      "2025/05/28 18:10:07 INFO mlflow.tracking._tracking_service.client: 🧪 View experiment at: https://dagshub.com/iamprashantjain/mini_project.mlflow/#/experiments/1.\n",
      "c:\\Users\\iampr\\AppData\\Local\\Programs\\Python\\Python38\\lib\\site-packages\\xgboost\\core.py:158: UserWarning: [18:10:09] WARNING: C:\\buildkite-agent\\builds\\buildkite-windows-cpu-autoscaling-group-i-0ed59c031377d09b8-1\\xgboost\\xgboost-ci-windows\\src\\learner.cc:740: \n",
      "Parameters: { \"use_label_encoder\" } are not used.\n",
      "\n",
      "  warnings.warn(smsg, UserWarning)\n",
      "2025/05/28 18:10:24 WARNING mlflow.models.model: Model logged without a signature and input example. Please set `input_example` parameter when logging the model to auto infer the model signature.\n"
     ]
    },
    {
     "name": "stdout",
     "output_type": "stream",
     "text": [
      "accuracy 0.7484848484848485\n",
      "precision 0.714160070360598\n",
      "recall 0.8243654822335026\n",
      "f1 0.765315739868049\n"
     ]
    },
    {
     "name": "stderr",
     "output_type": "stream",
     "text": [
      "2025/05/28 18:10:28 INFO mlflow.tracking._tracking_service.client: 🏃 View run xgboost with tfidf at: https://dagshub.com/iamprashantjain/mini_project.mlflow/#/experiments/1/runs/fed89e8b1c1640df9ea5fe06d8877fd3.\n",
      "2025/05/28 18:10:28 INFO mlflow.tracking._tracking_service.client: 🧪 View experiment at: https://dagshub.com/iamprashantjain/mini_project.mlflow/#/experiments/1.\n",
      "2025/05/28 18:11:54 WARNING mlflow.models.model: Model logged without a signature and input example. Please set `input_example` parameter when logging the model to auto infer the model signature.\n"
     ]
    },
    {
     "name": "stdout",
     "output_type": "stream",
     "text": [
      "accuracy 0.7141414141414142\n",
      "precision 0.6622773044151821\n",
      "recall 0.868020304568528\n",
      "f1 0.7513181019332161\n"
     ]
    },
    {
     "name": "stderr",
     "output_type": "stream",
     "text": [
      "2025/05/28 18:11:58 INFO mlflow.tracking._tracking_service.client: 🏃 View run gradientboosting with bow at: https://dagshub.com/iamprashantjain/mini_project.mlflow/#/experiments/1/runs/074ca5636dad41a298bf2cd624e0835c.\n",
      "2025/05/28 18:11:58 INFO mlflow.tracking._tracking_service.client: 🧪 View experiment at: https://dagshub.com/iamprashantjain/mini_project.mlflow/#/experiments/1.\n",
      "2025/05/28 18:13:04 WARNING mlflow.models.model: Model logged without a signature and input example. Please set `input_example` parameter when logging the model to auto infer the model signature.\n"
     ]
    },
    {
     "name": "stdout",
     "output_type": "stream",
     "text": [
      "accuracy 0.7116161616161616\n",
      "precision 0.6592307692307692\n",
      "recall 0.8700507614213198\n",
      "f1 0.750109409190372\n"
     ]
    },
    {
     "name": "stderr",
     "output_type": "stream",
     "text": [
      "2025/05/28 18:13:08 INFO mlflow.tracking._tracking_service.client: 🏃 View run gradientboosting with tfidf at: https://dagshub.com/iamprashantjain/mini_project.mlflow/#/experiments/1/runs/c9721d8a3a844d33b2c70c87bb3fedbc.\n",
      "2025/05/28 18:13:08 INFO mlflow.tracking._tracking_service.client: 🧪 View experiment at: https://dagshub.com/iamprashantjain/mini_project.mlflow/#/experiments/1.\n",
      "2025/05/28 18:13:09 INFO mlflow.tracking._tracking_service.client: 🏃 View run all_experiments at: https://dagshub.com/iamprashantjain/mini_project.mlflow/#/experiments/1/runs/0b4d038dd1c643599271c02131eb96d1.\n",
      "2025/05/28 18:13:09 INFO mlflow.tracking._tracking_service.client: 🧪 View experiment at: https://dagshub.com/iamprashantjain/mini_project.mlflow/#/experiments/1.\n"
     ]
    }
   ],
   "source": [
    "#start parent run\n",
    "with mlflow.start_run(run_name='all_experiments') as parent_run:\n",
    "    # loop through all algorithms for each vectorization method\n",
    "    for algo, algorithm in algorithms.items():\n",
    "        for vec, vectorizer in vectorizers.items():\n",
    "            with mlflow.start_run(run_name=f\"{algo} with {vec}\", nested=True) as child_run:\n",
    "                X = vectorizer.fit_transform(df['content'])\n",
    "                y = df['sentiment']\n",
    "                \n",
    "                X_train, X_test, y_train, y_test = train_test_split(X, y, test_size=0.2, random_state=42)\n",
    "                \n",
    "                #log vectorizer & params\n",
    "                mlflow.log_param(\"vectorizer\", vec)\n",
    "                mlflow.log_param(\"algorithm\", algo)\n",
    "                mlflow.log_param(\"test_size\", 0.2)\n",
    "                \n",
    "                #model training\n",
    "                model = algorithm\n",
    "                model.fit(X_train, y_train)\n",
    "                \n",
    "                #log model params\n",
    "                if algo == \"LogisticRegression\":\n",
    "                    mlflow.log_param(\"C\", model.C)\n",
    "                    \n",
    "                elif algo == \"MultinomialNB\":\n",
    "                    mlflow.log_param(\"alpha\", model.alpha)\n",
    "                    \n",
    "                elif algo == \"XGBoost\":\n",
    "                    mlflow.log_param(\"n_estimators\", model.n_estimators)\n",
    "                    mlflow.log_param(\"learnining_rate\", model.learnining_rate)\n",
    "                \n",
    "                elif algo == \"RandomForest\":\n",
    "                    mlflow.log_param(\"n_estimators\", model.n_estimators)\n",
    "                    mlflow.log_param(\"max_depth\", model.max_depth)\n",
    "                    \n",
    "                elif algo == \"GradientBoosting\":\n",
    "                    mlflow.log_param(\"n_estimators\", model.n_estimators)\n",
    "                    mlflow.log_param(\"learnining_rate\", model.learnining_rate)\n",
    "                    mlflow.log_param(\"max_depth\", model.max_depth)\n",
    "                    \n",
    "                    \n",
    "                #model evaluation\n",
    "                y_pred = model.predict(X_test)\n",
    "                accuracy = accuracy_score(y_test, y_pred)\n",
    "                precision = precision_score(y_test, y_pred)\n",
    "                recall = recall_score(y_test, y_pred)\n",
    "                f1 = f1_score(y_test, y_pred)\n",
    "                \n",
    "                \n",
    "                #log evaluation metrics\n",
    "                mlflow.log_metric(\"accuracy\", accuracy)\n",
    "                mlflow.log_metric(\"precision\", precision)\n",
    "                mlflow.log_metric(\"recall\", recall)\n",
    "                mlflow.log_metric(\"f1\", f1)\n",
    "                \n",
    "                \n",
    "                #log model\n",
    "                mlflow.sklearn.log_model(model, \"model\")\n",
    "                \n",
    "                \n",
    "                #log notebook\n",
    "                # import os\n",
    "                # notebook_path = \"exp1.ipynb\"\n",
    "                # os.system(f\"jupyter nbconvert --to notebook --execute --inplace {notebook_path}\")\n",
    "                # mlflow.log_artifact(notebook_path)\n",
    "                \n",
    "                \n",
    "                print(\"accuracy\", accuracy)\n",
    "                print(\"precision\", precision)\n",
    "                print(\"recall\", recall)\n",
    "                print(\"f1\", f1)\n",
    "                \n",
    "                del model  # delete model object\n",
    "                gc.collect()  # force garbage collection"
   ]
  },
  {
   "cell_type": "code",
   "execution_count": null,
   "id": "e2c2ba21",
   "metadata": {},
   "outputs": [],
   "source": []
  }
 ],
 "metadata": {
  "kernelspec": {
   "display_name": "Python 3",
   "language": "python",
   "name": "python3"
  },
  "language_info": {
   "codemirror_mode": {
    "name": "ipython",
    "version": 3
   },
   "file_extension": ".py",
   "mimetype": "text/x-python",
   "name": "python",
   "nbconvert_exporter": "python",
   "pygments_lexer": "ipython3",
   "version": "3.8.0"
  }
 },
 "nbformat": 4,
 "nbformat_minor": 5
}

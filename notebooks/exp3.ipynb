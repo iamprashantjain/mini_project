{
 "cells": [
  {
   "cell_type": "markdown",
   "id": "45a76d88",
   "metadata": {},
   "source": [
    "- LR + BOW is the best combination\n",
    "- Hyper parameter tuning with this combination"
   ]
  },
  {
   "cell_type": "code",
   "execution_count": 1,
   "id": "ee62a8b5",
   "metadata": {},
   "outputs": [],
   "source": [
    "import mlflow\n",
    "import mlflow.sklearn\n",
    "import pandas as pd\n",
    "import numpy as np\n",
    "import re\n",
    "import string\n",
    "\n",
    "from sklearn.feature_extraction.text import CountVectorizer\n",
    "from sklearn.model_selection import train_test_split\n",
    "from sklearn.linear_model import LogisticRegression\n",
    "from sklearn.metrics import accuracy_score, precision_score, recall_score, f1_score\n",
    "\n",
    "from nltk.corpus import stopwords\n",
    "from nltk.stem import WordNetLemmatizer"
   ]
  },
  {
   "cell_type": "code",
   "execution_count": 2,
   "metadata": {},
   "outputs": [],
   "source": [
    "#data ingestion\n",
    "df = pd.read_csv(\"https://raw.githubusercontent.com/campusx-official/jupyter-masterclass/main/tweet_emotions.csv\")"
   ]
  },
  {
   "cell_type": "code",
   "execution_count": 3,
   "metadata": {},
   "outputs": [],
   "source": [
    "df = df[df['sentiment'].isin([\"happiness\", \"sadness\"])]"
   ]
  },
  {
   "cell_type": "code",
   "execution_count": 4,
   "id": "1ad61432",
   "metadata": {},
   "outputs": [],
   "source": [
    "#data preprocessing\n",
    "def lemmatization(text):\n",
    "    lemmatizer = WordNetLemmatizer()\n",
    "    return \" \".join([lemmatizer.lemmatize(word) for word in text.split()])\n",
    "\n",
    "def remove_stop_words(text):\n",
    "    stop_words = set(stopwords.words(\"english\"))\n",
    "    return \" \".join([word for word in text.split() if word not in stop_words])\n",
    "\n",
    "def removing_numbers(text):\n",
    "    return ''.join([char for char in text if not char.isdigit()])\n",
    "\n",
    "def lower_case(text):\n",
    "    return \" \".join([word.lower() for word in text.split()])\n",
    "\n",
    "def removing_punctuations(text):\n",
    "    text = re.sub('[%s]' % re.escape(string.punctuation), ' ', text)\n",
    "    text = text.replace('؛', \"\")\n",
    "    return re.sub('\\s+', ' ', text).strip()\n",
    "\n",
    "def removing_urls(text):\n",
    "    return re.sub(r'https?://\\S+|www\\.\\S+', '', text)\n",
    "\n",
    "def remove_small_sentences(df):\n",
    "    df['content'] = df['content'].apply(lambda x: np.nan if len(str(x).split()) < 3 else x)\n",
    "    return df\n",
    "\n",
    "def normalize_text(df):\n",
    "    try:\n",
    "        df['content'] = df['content'].apply(lower_case)\n",
    "        df['content'] = df['content'].apply(remove_stop_words)\n",
    "        df['content'] = df['content'].apply(removing_numbers)\n",
    "        df['content'] = df['content'].apply(removing_punctuations)\n",
    "        df['content'] = df['content'].apply(removing_urls)\n",
    "        df['content'] = df['content'].apply(lemmatization)\n",
    "        df = remove_small_sentences(df)\n",
    "        return df.dropna(subset=['content'])\n",
    "    except Exception as e:\n",
    "        print(e)"
   ]
  },
  {
   "cell_type": "code",
   "execution_count": 5,
   "id": "0966b54d",
   "metadata": {},
   "outputs": [],
   "source": [
    "df = normalize_text(df)"
   ]
  },
  {
   "cell_type": "code",
   "execution_count": 6,
   "metadata": {},
   "outputs": [],
   "source": [
    "df['sentiment'].replace({\n",
    "    'sadness':0,\n",
    "    'happiness':1\n",
    "}, inplace=True)"
   ]
  },
  {
   "cell_type": "code",
   "execution_count": 7,
   "metadata": {},
   "outputs": [],
   "source": [
    "#apply bow\n",
    "vectorizer = CountVectorizer(max_features=1000)\n",
    "X = vectorizer.fit_transform(df['content'])\n",
    "y = df['sentiment']"
   ]
  },
  {
   "cell_type": "code",
   "execution_count": 8,
   "metadata": {},
   "outputs": [],
   "source": [
    "X_train, X_test, y_train, y_test = train_test_split(X, y, test_size=0.2, random_state=42)"
   ]
  },
  {
   "cell_type": "code",
   "execution_count": 9,
   "metadata": {},
   "outputs": [
    {
     "data": {
      "text/html": [
       "<pre style=\"white-space:pre;overflow-x:auto;line-height:normal;font-family:Menlo,'DejaVu Sans Mono',consolas,'Courier New',monospace\">Accessing as iamprashantjain\n",
       "</pre>\n"
      ],
      "text/plain": [
       "Accessing as iamprashantjain\n"
      ]
     },
     "metadata": {},
     "output_type": "display_data"
    },
    {
     "data": {
      "text/html": [
       "<pre style=\"white-space:pre;overflow-x:auto;line-height:normal;font-family:Menlo,'DejaVu Sans Mono',consolas,'Courier New',monospace\">Initialized MLflow to track repo <span style=\"color: #008000; text-decoration-color: #008000\">\"iamprashantjain/mini_project\"</span>\n",
       "</pre>\n"
      ],
      "text/plain": [
       "Initialized MLflow to track repo \u001b[32m\"iamprashantjain/mini_project\"\u001b[0m\n"
      ]
     },
     "metadata": {},
     "output_type": "display_data"
    },
    {
     "data": {
      "text/html": [
       "<pre style=\"white-space:pre;overflow-x:auto;line-height:normal;font-family:Menlo,'DejaVu Sans Mono',consolas,'Courier New',monospace\">Repository iamprashantjain/mini_project initialized!\n",
       "</pre>\n"
      ],
      "text/plain": [
       "Repository iamprashantjain/mini_project initialized!\n"
      ]
     },
     "metadata": {},
     "output_type": "display_data"
    },
    {
     "name": "stderr",
     "output_type": "stream",
     "text": [
      "2025/05/28 19:10:28 INFO mlflow.tracking.fluent: Experiment with name 'logistic regression  + bow hyper parameter tuning' does not exist. Creating a new experiment.\n"
     ]
    },
    {
     "data": {
      "text/plain": [
       "<Experiment: artifact_location='mlflow-artifacts:/84b9393b32b64689ac92c1a1f3697404', creation_time=1748439629009, experiment_id='2', last_update_time=1748439629009, lifecycle_stage='active', name='logistic regression  + bow hyper parameter tuning', tags={}>"
      ]
     },
     "execution_count": 9,
     "metadata": {},
     "output_type": "execute_result"
    }
   ],
   "source": [
    "#log experiment on dagshub mlflow\n",
    "import dagshub\n",
    "\n",
    "dagshub.init(repo_owner='iamprashantjain', repo_name='mini_project', mlflow=True)\n",
    "mlflow.set_tracking_uri(\"https://dagshub.com/iamprashantjain/mini_project.mlflow\")\n",
    "mlflow.set_experiment(\"logistic regression  + bow hyper parameter tuning\")"
   ]
  },
  {
   "cell_type": "code",
   "execution_count": 10,
   "metadata": {},
   "outputs": [
    {
     "name": "stderr",
     "output_type": "stream",
     "text": [
      "2025/05/28 19:21:05 INFO mlflow.tracking._tracking_service.client: 🏃 View run nebulous-ape-686 at: https://dagshub.com/iamprashantjain/mini_project.mlflow/#/experiments/2/runs/7f43b429496d4c07827ccc682ab4d40d.\n",
      "2025/05/28 19:21:05 INFO mlflow.tracking._tracking_service.client: 🧪 View experiment at: https://dagshub.com/iamprashantjain/mini_project.mlflow/#/experiments/2.\n",
      "2025/05/28 19:21:09 INFO mlflow.tracking._tracking_service.client: 🏃 View run luminous-owl-715 at: https://dagshub.com/iamprashantjain/mini_project.mlflow/#/experiments/2/runs/3879298979ce4f70afa95df2eab4c10e.\n",
      "2025/05/28 19:21:09 INFO mlflow.tracking._tracking_service.client: 🧪 View experiment at: https://dagshub.com/iamprashantjain/mini_project.mlflow/#/experiments/2.\n",
      "2025/05/28 19:21:18 INFO mlflow.tracking._tracking_service.client: 🏃 View run worried-shark-246 at: https://dagshub.com/iamprashantjain/mini_project.mlflow/#/experiments/2/runs/10acac56d6684805973f0d75c145b75a.\n",
      "2025/05/28 19:21:18 INFO mlflow.tracking._tracking_service.client: 🧪 View experiment at: https://dagshub.com/iamprashantjain/mini_project.mlflow/#/experiments/2.\n",
      "2025/05/28 19:21:28 INFO mlflow.tracking._tracking_service.client: 🏃 View run bittersweet-elk-41 at: https://dagshub.com/iamprashantjain/mini_project.mlflow/#/experiments/2/runs/7127df245c444d708e94279b0d4dbc64.\n",
      "2025/05/28 19:21:28 INFO mlflow.tracking._tracking_service.client: 🧪 View experiment at: https://dagshub.com/iamprashantjain/mini_project.mlflow/#/experiments/2.\n",
      "2025/05/28 19:21:38 INFO mlflow.tracking._tracking_service.client: 🏃 View run useful-bass-532 at: https://dagshub.com/iamprashantjain/mini_project.mlflow/#/experiments/2/runs/a6cc673d24644f07bbcfc7c2d97afb0e.\n",
      "2025/05/28 19:21:38 INFO mlflow.tracking._tracking_service.client: 🧪 View experiment at: https://dagshub.com/iamprashantjain/mini_project.mlflow/#/experiments/2.\n",
      "2025/05/28 19:21:48 INFO mlflow.tracking._tracking_service.client: 🏃 View run unruly-dolphin-6 at: https://dagshub.com/iamprashantjain/mini_project.mlflow/#/experiments/2/runs/1b618c262af742d6a3bd9bd782b48e60.\n",
      "2025/05/28 19:21:48 INFO mlflow.tracking._tracking_service.client: 🧪 View experiment at: https://dagshub.com/iamprashantjain/mini_project.mlflow/#/experiments/2.\n",
      "2025/05/28 19:21:52 INFO mlflow.tracking._tracking_service.client: 🏃 View run treasured-stoat-929 at: https://dagshub.com/iamprashantjain/mini_project.mlflow/#/experiments/2/runs/8ca7d8456aaa4511a23d74a42cb33ff1.\n",
      "2025/05/28 19:21:53 INFO mlflow.tracking._tracking_service.client: 🧪 View experiment at: https://dagshub.com/iamprashantjain/mini_project.mlflow/#/experiments/2.\n"
     ]
    }
   ],
   "source": [
    "import mlflow\n",
    "from sklearn.model_selection import GridSearchCV\n",
    "from sklearn.linear_model import LogisticRegression\n",
    "from sklearn.metrics import accuracy_score, precision_score, recall_score, f1_score\n",
    "\n",
    "param_grid = {\n",
    "    'C': [0.1, 1, 10],\n",
    "    'penalty': ['l1', 'l2'],\n",
    "    'solver': ['liblinear']\n",
    "}\n",
    "\n",
    "# Start MLflow experiment\n",
    "with mlflow.start_run():\n",
    "    \n",
    "    # Perform Grid Search\n",
    "    grid_search = GridSearchCV(\n",
    "        LogisticRegression(max_iter=1000),\n",
    "        param_grid,\n",
    "        cv=5,\n",
    "        scoring='f1',\n",
    "        n_jobs=-1,\n",
    "        return_train_score=False\n",
    "    )\n",
    "    \n",
    "    # Fit to training data\n",
    "    grid_search.fit(X_train, y_train)\n",
    "\n",
    "    # Iterate over results\n",
    "    for i in range(len(grid_search.cv_results_['params'])):\n",
    "        params = grid_search.cv_results_['params'][i]\n",
    "        mean_score = grid_search.cv_results_['mean_test_score'][i]\n",
    "        std_score = grid_search.cv_results_['std_test_score'][i]\n",
    "\n",
    "        # Train a new model with these params\n",
    "        model = LogisticRegression(max_iter=1000, **params)\n",
    "        model.fit(X_train, y_train)\n",
    "\n",
    "        # Evaluate\n",
    "        y_pred = model.predict(X_test)\n",
    "        accuracy = accuracy_score(y_test, y_pred)\n",
    "        precision = precision_score(y_test, y_pred)\n",
    "        recall = recall_score(y_test, y_pred)\n",
    "        f1 = f1_score(y_test, y_pred)\n",
    "\n",
    "        # Log metrics\n",
    "        with mlflow.start_run(nested=True):\n",
    "            mlflow.log_params(params)\n",
    "            mlflow.log_metric(\"mean_cv_score\", mean_score)\n",
    "            mlflow.log_metric(\"std_cv_score\", std_score)\n",
    "            mlflow.log_metric(\"accuracy\", accuracy)\n",
    "            mlflow.log_metric(\"precision\", precision)\n",
    "            mlflow.log_metric(\"recall\", recall)\n",
    "            mlflow.log_metric(\"f1\", f1)\n",
    "\n",
    "    # Log best model params and score\n",
    "    best_params = grid_search.best_params_\n",
    "    best_score = grid_search.best_score_\n",
    "\n",
    "    mlflow.log_params(best_params)\n",
    "    mlflow.log_metric(\"best_f1_score\", best_score)\n"
   ]
  },
  {
   "cell_type": "markdown",
   "id": "71a5f289",
   "metadata": {},
   "source": [
    "#### best combination\n",
    "\n",
    "- LR + BOW\n",
    "- C = 1\n",
    "- penalty = l1\n",
    "- solver = liblinear\n",
    "- we can create dvc pipeline on above techniques and settings\n",
    "- dvc pipeline should be tracking code change & data change"
   ]
  },
  {
   "cell_type": "code",
   "execution_count": null,
   "metadata": {},
   "outputs": [],
   "source": []
  },
  {
   "cell_type": "code",
   "execution_count": null,
   "metadata": {},
   "outputs": [],
   "source": []
  },
  {
   "cell_type": "code",
   "execution_count": null,
   "metadata": {},
   "outputs": [],
   "source": []
  }
 ],
 "metadata": {
  "kernelspec": {
   "display_name": "Python 3",
   "language": "python",
   "name": "python3"
  },
  "language_info": {
   "codemirror_mode": {
    "name": "ipython",
    "version": 3
   },
   "file_extension": ".py",
   "mimetype": "text/x-python",
   "name": "python",
   "nbconvert_exporter": "python",
   "pygments_lexer": "ipython3",
   "version": "3.8.0"
  }
 },
 "nbformat": 4,
 "nbformat_minor": 5
}
